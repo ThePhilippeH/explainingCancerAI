{
 "cells": [
  {
   "cell_type": "code",
   "execution_count": 1,
   "metadata": {},
   "outputs": [
    {
     "name": "stdout",
     "output_type": "stream",
     "text": [
      "Looking in indexes: https://mirrors.aliyun.com/pypi/simple/\n",
      "Collecting shap\n",
      "  Downloading https://mirrors.aliyun.com/pypi/packages/82/29/923869e92c74bf07ec2b9a52ad5ac67d4184c873ba33ada7d4584356463a/shap-0.46.0-cp311-cp311-win_amd64.whl (456 kB)\n",
      "     ---------------------------------------- 0.0/456.1 kB ? eta -:--:--\n",
      "      --------------------------------------- 10.2/456.1 kB ? eta -:--:--\n",
      "      --------------------------------------- 10.2/456.1 kB ? eta -:--:--\n",
      "      --------------------------------------- 10.2/456.1 kB ? eta -:--:--\n",
      "     --- --------------------------------- 41.0/456.1 kB 178.6 kB/s eta 0:00:03\n",
      "     --- --------------------------------- 41.0/456.1 kB 178.6 kB/s eta 0:00:03\n",
      "     --- --------------------------------- 41.0/456.1 kB 178.6 kB/s eta 0:00:03\n",
      "     --- --------------------------------- 41.0/456.1 kB 178.6 kB/s eta 0:00:03\n",
      "     ----------- ------------------------ 143.4/456.1 kB 387.0 kB/s eta 0:00:01\n",
      "     ----------- ------------------------ 143.4/456.1 kB 387.0 kB/s eta 0:00:01\n",
      "     ----------- ------------------------ 143.4/456.1 kB 387.0 kB/s eta 0:00:01\n",
      "     -------------------------- --------- 337.9/456.1 kB 635.0 kB/s eta 0:00:01\n",
      "     -------------------------- --------- 337.9/456.1 kB 635.0 kB/s eta 0:00:01\n",
      "     -------------------------- --------- 337.9/456.1 kB 635.0 kB/s eta 0:00:01\n",
      "     -------------------------- --------- 337.9/456.1 kB 635.0 kB/s eta 0:00:01\n",
      "     ------------------------------------ 456.1/456.1 kB 663.5 kB/s eta 0:00:00\n",
      "Requirement already satisfied: numpy in c:\\users\\18903\\anaconda3\\lib\\site-packages (from shap) (1.26.4)\n",
      "Requirement already satisfied: scipy in c:\\users\\18903\\anaconda3\\lib\\site-packages (from shap) (1.11.4)\n",
      "Requirement already satisfied: scikit-learn in c:\\users\\18903\\anaconda3\\lib\\site-packages (from shap) (1.2.2)\n",
      "Requirement already satisfied: pandas in c:\\users\\18903\\anaconda3\\lib\\site-packages (from shap) (2.1.4)\n",
      "Requirement already satisfied: tqdm>=4.27.0 in c:\\users\\18903\\anaconda3\\lib\\site-packages (from shap) (4.67.1)\n",
      "Requirement already satisfied: packaging>20.9 in c:\\users\\18903\\anaconda3\\lib\\site-packages (from shap) (23.1)\n",
      "Collecting slicer==0.0.8 (from shap)\n",
      "  Downloading https://mirrors.aliyun.com/pypi/packages/63/81/9ef641ff4e12cbcca30e54e72fb0951a2ba195d0cda0ba4100e532d929db/slicer-0.0.8-py3-none-any.whl (15 kB)\n",
      "Requirement already satisfied: numba in c:\\users\\18903\\anaconda3\\lib\\site-packages (from shap) (0.59.0)\n",
      "Requirement already satisfied: cloudpickle in c:\\users\\18903\\anaconda3\\lib\\site-packages (from shap) (2.2.1)\n",
      "Requirement already satisfied: colorama in c:\\users\\18903\\anaconda3\\lib\\site-packages (from tqdm>=4.27.0->shap) (0.4.6)\n",
      "Requirement already satisfied: llvmlite<0.43,>=0.42.0dev0 in c:\\users\\18903\\anaconda3\\lib\\site-packages (from numba->shap) (0.42.0)\n",
      "Requirement already satisfied: python-dateutil>=2.8.2 in c:\\users\\18903\\anaconda3\\lib\\site-packages (from pandas->shap) (2.8.2)\n",
      "Requirement already satisfied: pytz>=2020.1 in c:\\users\\18903\\anaconda3\\lib\\site-packages (from pandas->shap) (2023.3.post1)\n",
      "Requirement already satisfied: tzdata>=2022.1 in c:\\users\\18903\\anaconda3\\lib\\site-packages (from pandas->shap) (2023.3)\n",
      "Requirement already satisfied: joblib>=1.1.1 in c:\\users\\18903\\anaconda3\\lib\\site-packages (from scikit-learn->shap) (1.2.0)\n",
      "Requirement already satisfied: threadpoolctl>=2.0.0 in c:\\users\\18903\\anaconda3\\lib\\site-packages (from scikit-learn->shap) (2.2.0)\n",
      "Requirement already satisfied: six>=1.5 in c:\\users\\18903\\anaconda3\\lib\\site-packages (from python-dateutil>=2.8.2->pandas->shap) (1.16.0)\n",
      "Installing collected packages: slicer, shap\n",
      "Successfully installed shap-0.46.0 slicer-0.0.8\n"
     ]
    }
   ],
   "source": [
    "!pip install shap"
   ]
  },
  {
   "cell_type": "code",
   "execution_count": 9,
   "metadata": {},
   "outputs": [
    {
     "name": "stdout",
     "output_type": "stream",
     "text": [
      "Using device: cuda\n",
      "CUDA Available: True\n",
      "Evaluation Accuracy: 0.8319\n"
     ]
    }
   ],
   "source": [
    "import torch\n",
    "from transformers import ViTForImageClassification, ViTFeatureExtractor\n",
    "from datasets import load_dataset\n",
    "from torch.utils.data import DataLoader\n",
    "import torch.nn.functional as F\n",
    "from torchvision import transforms\n",
    "from PIL import Image\n",
    "import numpy as np\n",
    "\n",
    "device = torch.device(\"cuda\" if torch.cuda.is_available() else \"cpu\")\n",
    "\n",
    "model_name = \"Anwarkh1/Skin_Cancer-Image_Classification\"\n",
    "model = ViTForImageClassification.from_pretrained(model_name).to(device)\n",
    "feature_extractor = ViTFeatureExtractor.from_pretrained(model_name)\n",
    "\n",
    "dataset = load_dataset(\"marmal88/skin_cancer\", split=\"test\")\n",
    "\n",
    "label_map = model.config.label2id\n",
    "\n",
    "def transform(example):\n",
    "    image = example[\"image\"]\n",
    "    image = feature_extractor(image, return_tensors=\"pt\", size=(224, 224))[\"pixel_values\"].squeeze(0)\n",
    "    label_str = example[\"dx\"]\n",
    "    label_int = label_map.get(label_str, -1)\n",
    "    if label_int == -1:\n",
    "        raise ValueError(f\"Unknown label {label_str}\")\n",
    "    return {\"pixel_values\": image, \"dx\": torch.tensor(label_int, dtype=torch.long)}\n",
    "\n",
    "dataset = dataset.map(transform)\n",
    "dataset.set_format(type=\"torch\", columns=[\"pixel_values\", \"dx\"])\n",
    "\n",
    "batch_size = 32\n",
    "dataloader = DataLoader(dataset, batch_size=batch_size)\n",
    "\n",
    "model.eval()\n",
    "correct = 0\n",
    "total = 0\n",
    "\n",
    "with torch.no_grad():\n",
    "    for batch in dataloader:\n",
    "        inputs = batch[\"pixel_values\"].to(device)\n",
    "        labels = batch[\"dx\"].to(device)\n",
    "        outputs = model(inputs)\n",
    "        preds = torch.argmax(F.softmax(outputs.logits, dim=1), dim=1)\n",
    "        correct += (preds == labels).sum().item()\n",
    "        total += labels.size(0)\n",
    "\n",
    "print(f\"Using device: {device}\")\n",
    "print(f\"CUDA Available: {torch.cuda.is_available()}\")\n",
    "\n",
    "accuracy = correct / total\n",
    "print(f\"Evaluation Accuracy: {accuracy:.4f}\")"
   ]
  },
  {
   "cell_type": "code",
   "execution_count": null,
   "metadata": {},
   "outputs": [
    {
     "name": "stdout",
     "output_type": "stream",
     "text": [
      "['image', 'image_id', 'lesion_id', 'dx', 'dx_type', 'age', 'sex', 'localization', 'pixel_values']\n"
     ]
    }
   ],
   "source": [
    "print(dataset.column_names)\n"
   ]
  },
  {
   "cell_type": "code",
   "execution_count": 6,
   "metadata": {},
   "outputs": [
    {
     "name": "stdout",
     "output_type": "stream",
     "text": [
      "{0: 'benign_keratosis-like_lesions', 1: 'basal_cell_carcinoma', 2: 'actinic_keratoses', 3: 'vascular_lesions', 4: 'melanocytic_Nevi', 5: 'melanoma', 6: 'dermatofibroma'}\n"
     ]
    }
   ],
   "source": [
    "print(model.config.id2label)  "
   ]
  },
  {
   "cell_type": "code",
   "execution_count": null,
   "metadata": {},
   "outputs": [],
   "source": [
    "import shap\n",
    "\n",
    "class ModelWrapper(torch.nn.Module):\n",
    "    def __init__(self, model):\n",
    "        super().__init__()\n",
    "        self.model = model\n",
    "\n",
    "    def forward(self, x):\n",
    "        return self.model(x).logits\n",
    "\n",
    "wrapped_model = ModelWrapper(model)\n",
    "\n",
    "background_data = torch.stack([dataset[i][\"pixel_values\"] for i in range(10)]).to(device)\n",
    "\n",
    "test_image = dataset[15][\"pixel_values\"].unsqueeze(0).to(device)\n",
    "\n",
    "explainer = shap.GradientExplainer(wrapped_model, background_data)\n",
    "\n",
    "shap_values = explainer.shap_values(test_image)\n",
    "\n",
    "shap.image_plot(shap_values, test_image.cpu().numpy())\n"
   ]
  }
 ],
 "metadata": {
  "kernelspec": {
   "display_name": "base",
   "language": "python",
   "name": "python3"
  },
  "language_info": {
   "codemirror_mode": {
    "name": "ipython",
    "version": 3
   },
   "file_extension": ".py",
   "mimetype": "text/x-python",
   "name": "python",
   "nbconvert_exporter": "python",
   "pygments_lexer": "ipython3",
   "version": "3.11.7"
  }
 },
 "nbformat": 4,
 "nbformat_minor": 2
}
